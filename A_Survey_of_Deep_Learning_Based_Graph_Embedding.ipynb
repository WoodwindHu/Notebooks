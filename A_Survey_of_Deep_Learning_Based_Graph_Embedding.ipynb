{
  "nbformat": 4,
  "nbformat_minor": 0,
  "metadata": {
    "colab": {
      "name": "A Survey of Deep Learning Based Graph Embedding.ipynb",
      "version": "0.3.2",
      "provenance": [],
      "include_colab_link": true
    },
    "language_info": {
      "codemirror_mode": {
        "name": "ipython",
        "version": 3
      },
      "file_extension": ".py",
      "mimetype": "text/x-python",
      "name": "python",
      "nbconvert_exporter": "python",
      "pygments_lexer": "ipython3",
      "version": "3.6.5"
    },
    "kernelspec": {
      "display_name": "Python 3",
      "language": "python",
      "name": "python3"
    }
  },
  "cells": [
    {
      "cell_type": "markdown",
      "metadata": {
        "id": "view-in-github",
        "colab_type": "text"
      },
      "source": [
        "<a href=\"https://colab.research.google.com/github/WoodwindHu/Notebooks/blob/master/A_Survey_of_Deep_Learning_Based_Graph_Embedding.ipynb\" target=\"_parent\"><img src=\"https://colab.research.google.com/assets/colab-badge.svg\" alt=\"Open In Colab\"/></a>"
      ]
    },
    {
      "cell_type": "markdown",
      "metadata": {
        "id": "5jb4N7f3hNb3",
        "colab_type": "text"
      },
      "source": [
        "**Abstract**--Graph is an important data representation which appears in a wide diversity of real-world scenarios and also play an important role on computer vision field such as human-pose estimation and so on. Effective graph analytics provides users a deeper understanding of what is behind the data. Graph embedding is an effective way to solve the graph analytics problem. It converts the graph data into a low dimensional space in which the graph structural information and graph properties are maximumly preserved. In this survey, I will summarize the resent works of graph embedding which utilize deep learning to gain embedding features, and some suggestions for future research directions are also offered."
      ]
    },
    {
      "cell_type": "markdown",
      "metadata": {
        "id": "8h-opwY1hNb4",
        "colab_type": "text"
      },
      "source": [
        "# 1 Intoduction"
      ]
    },
    {
      "cell_type": "markdown",
      "metadata": {
        "id": "gPTZwZm_hNb5",
        "colab_type": "text"
      },
      "source": [
        "Graph embedding converts a graph into a low dimensional space in which the graph information is preserved. By representing a graph as a low dimensional vector, or a set of low dimensional vectors, graph algorithms can then be computed efﬁciently. There are different types of graphs, so the input of graph embedding varies in different scenarios. The output of graph embedding is a low-dimensional vector representing a part of the graph (or a whole graph). I.e., according to different needs, we may represent a node/edge/substructure/whole-graph as a low-dimensional vector."
      ]
    },
    {
      "cell_type": "markdown",
      "metadata": {
        "id": "644A3SA3hNb6",
        "colab_type": "text"
      },
      "source": [
        "Deep learning has show outstanding performance in a wide diversity of research field, such as computer vision, language modeling, etc. DL based graph embedding applies deep learning models on graphs. These models are either a direct adoption from other ﬁelds or a new neural network model speciﬁcally designed for embedding graph data. The input is either paths sampled from a graph or the whole graph itself. There are two main kind of deep learning based graph embedding methods, one adopted random walk to sample paths from a graph and one not. "
      ]
    },
    {
      "cell_type": "markdown",
      "metadata": {
        "id": "f7X-SW96hNb7",
        "colab_type": "text"
      },
      "source": [
        "The rest of this survey is organized as follows. In Section 2, I introduce the deﬁnitions of the basic concepts required to understand the graph embedding problem, and then provide a formal problem deﬁnition of graph embedding. Section 3 summarizes the resent work on DL based graph Embedding that utilize random walk to sample paths from a graph. And Section 4 exhibits some popular deep learning models used in graph embedding that doesn't adopt random walk. Then the potential future research directions is discussed in Section 5 and conclution is presented in Section 6."
      ]
    },
    {
      "cell_type": "markdown",
      "metadata": {
        "id": "4Qj8tfoVhNb7",
        "colab_type": "text"
      },
      "source": [
        "# 2 Problem Formalization"
      ]
    },
    {
      "cell_type": "markdown",
      "metadata": {
        "id": "i7rjAVh7hNb8",
        "colab_type": "text"
      },
      "source": [
        "# 3 Deep learning Based Graph Embedding with Random Walk"
      ]
    },
    {
      "cell_type": "markdown",
      "metadata": {
        "id": "Rt7M3zA8hNb9",
        "colab_type": "text"
      },
      "source": [
        ">Insight. The second-order proximity in a graph can be preserved in the embedded space by maximizing the probability of observing the neighbourhood of a node conditioned on its embedding."
      ]
    },
    {
      "cell_type": "markdown",
      "metadata": {
        "id": "G7aeLSVjhNb-",
        "colab_type": "text"
      },
      "source": [
        "A graph is represented as a set of random walk paths sampled from it. The deep learning methods are then applied to the sampled paths for graph embedding which preserves graph properties carried by the paths."
      ]
    },
    {
      "cell_type": "markdown",
      "metadata": {
        "id": "OiKU4m3YhNb_",
        "colab_type": "text"
      },
      "source": [
        "# 4 Deep learning Based Graph Embedding without Random Walk"
      ]
    },
    {
      "cell_type": "markdown",
      "metadata": {
        "id": "WI_hTiGyhNb_",
        "colab_type": "text"
      },
      "source": [
        "> Insight. The multi-layered learning architecture is a robust and effective solution to encode the graph into a low dimensional space."
      ]
    },
    {
      "cell_type": "markdown",
      "metadata": {
        "id": "kinTv86DhNcA",
        "colab_type": "text"
      },
      "source": [
        "Applies deep models on a whole graph(or a proximity matrix of a whole graph) directly."
      ]
    },
    {
      "cell_type": "markdown",
      "metadata": {
        "id": "6LY98uzghNcB",
        "colab_type": "text"
      },
      "source": [
        "# 5 Future Directions"
      ]
    },
    {
      "cell_type": "markdown",
      "metadata": {
        "id": "BdhDUilUhNcB",
        "colab_type": "text"
      },
      "source": [
        "# 6 Conclutions"
      ]
    },
    {
      "cell_type": "markdown",
      "metadata": {
        "id": "_qDzfaZchNcC",
        "colab_type": "text"
      },
      "source": [
        "# REFERENCES"
      ]
    },
    {
      "cell_type": "markdown",
      "metadata": {
        "id": "w410vnRehNcD",
        "colab_type": "text"
      },
      "source": [
        "- Cai H, Zheng V W, Chang K C C. A comprehensive survey of graph embedding: Problems, techniques, and applications[J]. IEEE Transactions on Knowledge and Data Engineering, 2018, 30(9): 1616-1637."
      ]
    }
  ]
}